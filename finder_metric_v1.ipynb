{
 "cells": [
  {
   "cell_type": "code",
   "execution_count": 35,
   "metadata": {
    "collapsed": false
   },
   "outputs": [
    {
     "name": "stdout",
     "output_type": "stream",
     "text": [
      "The most similar to changed_1.1.s2A is1.1 in s2A\n",
      "The most similar to changed_2.1.s2A is2.1 in s2A\n",
      "The most similar to changed_2.3.s2A is2.3 in s2A\n",
      "The most similar to changed_3.2.s2A is3.2 in s2A\n",
      "The most similar to changed_4.4.s2A is4.4 in s2A\n",
      "The most similar to changed_3.2.wv3 is3.2 in wv3\n"
     ]
    }
   ],
   "source": [
    "# Program to finder the best match of an unknown spectrum \n",
    "# in the folder \"unknown\", among the known spectrums wchich came from the\n",
    "# folder \"materials\"\n",
    "\n",
    "import glob\n",
    "import os\n",
    "import csv\n",
    "import pickle\n",
    "\n",
    "\n",
    "import numpy as np\n",
    "import pylab\n",
    "from __future__ import division\n",
    "\n",
    "\n",
    "\n",
    "# Here should ne writen the satellite's responses we have\n",
    "name_responses=['re', 's2A', 'wv3'];\n",
    "num_resp=len(name_responses);\n",
    "\n",
    "#retrieve of the unknown coefficients into the string coef_unk\n",
    "unk = glob.glob('unknown/*');\n",
    "num_unk=len(unk);\n",
    "coef_unk=range(num_resp);\n",
    "coef_unk[:]=[[] for i in coef_unk];\n",
    "\n",
    "i_prove=0; # for proving-experiments\n",
    "\n",
    "for x in unk:\n",
    "    coef_temp=[];\n",
    "    resp=open(x,'rU');\n",
    "    csv_unk=csv.reader(resp);\n",
    "    name_unk=os.path.basename(x).replace('.csv','').replace('.CSV','');\n",
    "    \n",
    "    i_resp=0;\n",
    "    for xy in name_responses:\n",
    "        if xy in name_unk:\n",
    "            # this is a clumsy step, but so far necesarry to work with csv\n",
    "            for xyz in csv_unk:\n",
    "                for i in xyz:\n",
    "                    coef_temp.append(float(i));\n",
    "            coef_temp.append(name_unk);\n",
    "            coef_unk[i_resp].append(coef_temp);\n",
    "        i_resp+=1;\n",
    "    resp.close();\n",
    "    \n",
    "# Retrieve the coefficients of the materials we know\n",
    "mat=glob.glob('coefficients/*');\n",
    "# Retrieve the values and the names od the known coefficients\n",
    "coef_mat=range(num_resp);\n",
    "coef_mat[:]=[[] for i in coef_mat];\n",
    "name_mat=range(num_resp);\n",
    "name_mat[:]=[[] for i in name_mat];\n",
    "\n",
    "for x in mat:\n",
    "    mat_temp=open(x,'rU');\n",
    "    i_resp=0;\n",
    "    for xy in name_responses:\n",
    "        if xy in os.path.basename(x):\n",
    "            if 'coef' in os.path.basename(x):\n",
    "                coef_mat[i_resp]=pickle.load(mat_temp);\n",
    "            elif 'mat' in os.path.basename(x):\n",
    "                name_mat[i_resp]=pickle.load(mat_temp);\n",
    "        i_resp+=1;\n",
    "    mat_temp.close();\n",
    "    \n",
    "# Now, make the matching program\n",
    "i_resp=0;\n",
    "# next x to swamp the unknown files\n",
    "for x in name_responses:\n",
    "    # next i to swamp the unknown coefficients for i_resp sat\n",
    "    for i in range(len(coef_unk[i_resp])):\n",
    "        #unlikely the smallest value smaller than this\n",
    "        metro_min=1000000; \n",
    "        # j counts the known coeff for i_resp sat\n",
    "        for j in range(len(coef_mat[i_resp])):\n",
    "            coef_mat_temp=coef_mat[i_resp];\n",
    "            metro=0;\n",
    "            #Here it is made the measurement\n",
    "            for k in range(len(coef_unk[i_resp][i])-1):\n",
    "                metro+=(coef_unk[i_resp][i][k]-coef_mat_temp[j,k])**2;\n",
    "            if metro<metro_min:\n",
    "                metro_min=metro;\n",
    "                j_min=j;\n",
    "\n",
    "        print 'The most similar to',coef_unk[i_resp][i][k+1],'is'+name_mat[i_resp][j_min],'in',x;\n",
    "    i_resp+=1;\n"
   ]
  },
  {
   "cell_type": "code",
   "execution_count": null,
   "metadata": {
    "collapsed": true
   },
   "outputs": [],
   "source": []
  }
 ],
 "metadata": {
  "anaconda-cloud": {},
  "kernelspec": {
   "display_name": "Python [conda root]",
   "language": "python",
   "name": "conda-root-py"
  },
  "language_info": {
   "codemirror_mode": {
    "name": "ipython",
    "version": 2
   },
   "file_extension": ".py",
   "mimetype": "text/x-python",
   "name": "python",
   "nbconvert_exporter": "python",
   "pygments_lexer": "ipython2",
   "version": "2.7.12"
  }
 },
 "nbformat": 4,
 "nbformat_minor": 1
}
